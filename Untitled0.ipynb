{
  "nbformat": 4,
  "nbformat_minor": 0,
  "metadata": {
    "colab": {
      "provenance": [],
      "collapsed_sections": [],
      "authorship_tag": "ABX9TyMFPr2D/WYH6seY5yv7uyOu",
      "include_colab_link": true
    },
    "kernelspec": {
      "name": "python3",
      "display_name": "Python 3"
    },
    "language_info": {
      "name": "python"
    }
  },
  "cells": [
    {
      "cell_type": "markdown",
      "metadata": {
        "id": "view-in-github",
        "colab_type": "text"
      },
      "source": [
        "<a href=\"https://colab.research.google.com/github/ukzada/Intro-to-AI/blob/main/Untitled0.ipynb\" target=\"_parent\"><img src=\"https://colab.research.google.com/assets/colab-badge.svg\" alt=\"Open In Colab\"/></a>"
      ]
    },
    {
      "cell_type": "code",
      "execution_count": 1,
      "metadata": {
        "id": "43phE05FpMju",
        "colab": {
          "base_uri": "https://localhost:8080/"
        },
        "outputId": "2acdad81-a59f-4a47-8570-55025f8be288"
      },
      "outputs": [
        {
          "output_type": "stream",
          "name": "stdout",
          "text": [
            "enter a number3\n",
            "you entered an odd number\n"
          ]
        }
      ],
      "source": [
        "n=int(input(\"enter a number\"))\n",
        "if n%2==0:\n",
        "    print(\"you entered an even number\")\n",
        "else:\n",
        "    print(\"you entered an odd number\")"
      ]
    },
    {
      "cell_type": "code",
      "source": [
        "sum=0\n",
        "n=int(input(\"enter an integer value:\"))\n",
        "while n!=0:\n",
        "    sum=sum+n\n",
        "    n=int(input(\"enter an integer value:\"))\n",
        "print(\"sum of given values is\",sum)"
      ],
      "metadata": {
        "id": "sGtWGevapQBv",
        "colab": {
          "base_uri": "https://localhost:8080/"
        },
        "outputId": "e60875d1-deb8-476a-a2b9-a1d84d90ffe9"
      },
      "execution_count": 2,
      "outputs": [
        {
          "output_type": "stream",
          "name": "stdout",
          "text": [
            "enter an integer value:3\n",
            "enter an integer value:4\n",
            "enter an integer value:5\n",
            "enter an integer value:0\n",
            "sum of given values is 12\n"
          ]
        }
      ]
    },
    {
      "cell_type": "code",
      "source": [
        "isPrime=True\n",
        "i=2\n",
        "n=int(input(\"enter a number:\"))\n",
        "while n>i:\n",
        "    remainder=n%i\n",
        "    if remainder==0:\n",
        "        isPrime=False\n",
        "        break\n",
        "    else:\n",
        "        i=i+1\n",
        "if isPrime:\n",
        "    print(\"The number is a prime number\")\n",
        "else:\n",
        "    print(\"The number is a not a prime number\")"
      ],
      "metadata": {
        "colab": {
          "base_uri": "https://localhost:8080/"
        },
        "id": "D4jWDWGbr0No",
        "outputId": "ffea0a2a-afe5-4b08-c08e-915b9cc5ec3b"
      },
      "execution_count": 3,
      "outputs": [
        {
          "output_type": "stream",
          "name": "stdout",
          "text": [
            "enter a number:4\n",
            "The number is a not a prime number\n"
          ]
        }
      ]
    },
    {
      "cell_type": "code",
      "source": [
        "sum=0\n",
        "i=0\n",
        "while i<5:\n",
        "    num=int(input(\"enter a number\"))\n",
        "    sum=sum+num\n",
        "    i=i+1\n",
        "print(\"the sum of five integers is \",sum)"
      ],
      "metadata": {
        "colab": {
          "base_uri": "https://localhost:8080/"
        },
        "id": "SyTiGqDDr7XS",
        "outputId": "f1b4778b-49ba-4360-ac61-0b32f4cdb071"
      },
      "execution_count": 4,
      "outputs": [
        {
          "output_type": "stream",
          "name": "stdout",
          "text": [
            "enter a number2\n",
            "enter a number3\n",
            "enter a number4\n",
            "enter a number5\n",
            "enter a number6\n",
            "the sum of five integers is  20\n"
          ]
        }
      ]
    },
    {
      "cell_type": "code",
      "source": [
        "sum=0\n",
        "i=1\n",
        "while i<=10:\n",
        "    sum=sum+i\n",
        "    i=i+1\n",
        "print(\"the sum of first ten numbers is \",sum)\n"
      ],
      "metadata": {
        "colab": {
          "base_uri": "https://localhost:8080/"
        },
        "id": "b0v6RjCYr7kr",
        "outputId": "f2f90ac1-5751-437c-a8c1-34b9f6369730"
      },
      "execution_count": 5,
      "outputs": [
        {
          "output_type": "stream",
          "name": "stdout",
          "text": [
            "the sum of first ten numbers is  55\n"
          ]
        }
      ]
    },
    {
      "cell_type": "code",
      "source": [
        "name = input('What is your name? ') \n",
        "print('Hello ' + name)\n",
        "job = input('What is your job? ') \n",
        "print('Your job is ' + job)\n",
        "num = input('Give me a number? ') \n",
        "print('You said: ' + str(num))"
      ],
      "metadata": {
        "colab": {
          "base_uri": "https://localhost:8080/"
        },
        "id": "YayXd8wzr70l",
        "outputId": "f8c8e035-f677-47b2-af40-a2b28b45d600"
      },
      "execution_count": 6,
      "outputs": [
        {
          "output_type": "stream",
          "name": "stdout",
          "text": [
            "What is your name? Muhammad Usman\n",
            "Hello Muhammad Usman\n",
            "What is your job? Student\n",
            "Your job is Student\n",
            "Give me a number? 5\n",
            "You said: 5\n"
          ]
        }
      ]
    },
    {
      "cell_type": "code",
      "source": [
        "import random\n",
        "# Awroken\n",
        "MINIMUM = 1\n",
        "MAXIMUM = 9\n",
        "NUMBER = random.randint(MINIMUM, MAXIMUM)\n",
        "GUESS = None\n",
        "ANOTHER = None\n",
        "TRY = 0\n",
        "RUNNING = True\n",
        "print (\"Alright...\")\n",
        "while RUNNING:\n",
        " GUESS =input(\"What is your lucky number? \")\n",
        " if int(GUESS) < NUMBER:\n",
        "        print (\"Wrong, too low.\")\n",
        " elif int(GUESS) > NUMBER:\n",
        "     print (\"Wrong, too high.\")\n",
        " elif GUESS.lower() == \"exit\":\n",
        "     print (\"Better luck next time.\")\n",
        " elif int(GUESS) == NUMBER:\n",
        "     print (\"Yes, that's the one, %s.\" %str(NUMBER))\n",
        " if TRY < 2:\n",
        "     print (\"Impressive, only %s tries.\" % str(TRY))\n",
        " elif TRY > 2 and TRY < 10:\n",
        "     print( \"Pretty good, %s tries.\" % str(TRY))\n",
        " else:\n",
        "     print (\"Bad, %s tries.\" % str(TRY))\n",
        " RUNNING = False\n",
        " TRY += 1\n"
      ],
      "metadata": {
        "colab": {
          "base_uri": "https://localhost:8080/"
        },
        "id": "1r1xyr3cr793",
        "outputId": "846cfac9-460a-4336-ad14-037714579b9d"
      },
      "execution_count": 8,
      "outputs": [
        {
          "output_type": "stream",
          "name": "stdout",
          "text": [
            "Alright...\n",
            "What is your lucky number? 5\n",
            "Yes, that's the one, 5.\n",
            "Impressive, only 0 tries.\n"
          ]
        }
      ]
    },
    {
      "cell_type": "code",
      "source": [
        "n=str(input(\"enter the integers\"))\n",
        "i=len(n)\n",
        "k=i-1\n",
        "while k>=0:\n",
        "    print(n[k],end='')\n",
        "    k=k-1"
      ],
      "metadata": {
        "colab": {
          "base_uri": "https://localhost:8080/"
        },
        "id": "OUVVJn2RsbMK",
        "outputId": "c127d9a5-a480-4c53-e198-179c238893cf"
      },
      "execution_count": 10,
      "outputs": [
        {
          "output_type": "stream",
          "name": "stdout",
          "text": [
            "enter the integers9\n",
            "9"
          ]
        }
      ]
    },
    {
      "cell_type": "code",
      "source": [
        "setOfIntegers=[]\n",
        "n=int(input(\"enter the number of integers you want to enter\"))\n",
        "i=0\n",
        "while n-1>=i:\n",
        "    integer=int(input())\n",
        "    setOfIntegers.append(integer)\n",
        "    i=i+1\n",
        "k=0\n",
        "sumEven=0\n",
        "sumOdd=0\n",
        "while n-1>=k:\n",
        "    if setOfIntegers[k]%2==0:\n",
        "        sumEven=sumEven+setOfIntegers[k]\n",
        "    else:\n",
        "        sumOdd=sumOdd+setOfIntegers[k]\n",
        "    k=k+1\n",
        "print(\"The sum of even numbers is :\",sumEven)\n",
        "print(\"The sum of odd numbers is :\",sumOdd)"
      ],
      "metadata": {
        "colab": {
          "base_uri": "https://localhost:8080/"
        },
        "id": "1kjqfgMcsbPg",
        "outputId": "7637d83d-b961-4420-e29b-3738b238f658"
      },
      "execution_count": 11,
      "outputs": [
        {
          "output_type": "stream",
          "name": "stdout",
          "text": [
            "enter the number of integers you want to enter3\n",
            "9\n",
            "3\n",
            "3\n",
            "The sum of even numbers is : 0\n",
            "The sum of odd numbers is : 15\n"
          ]
        }
      ]
    },
    {
      "cell_type": "code",
      "source": [
        "i=0\n",
        "k=1\n",
        "sum=0\n",
        "l=1\n",
        "while l<=10:\n",
        "    sum=i+k\n",
        "    print(sum,end=' ')\n",
        "    i=k\n",
        "    k=sum\n",
        "    l=l+1"
      ],
      "metadata": {
        "colab": {
          "base_uri": "https://localhost:8080/"
        },
        "id": "UvAaIrlPtfgQ",
        "outputId": "5fc06786-8203-49da-dcc2-8b3db07c373b"
      },
      "execution_count": 12,
      "outputs": [
        {
          "output_type": "stream",
          "name": "stdout",
          "text": [
            "1 2 3 5 8 13 21 34 55 89 "
          ]
        }
      ]
    },
    {
      "cell_type": "code",
      "source": [
        "n=int(input(\"Enter a number\"))\n",
        "fact=1\n",
        "i=1\n",
        "while i<=n:\n",
        "    fact=fact*i\n",
        "    i=i+1\n",
        "print(\"The factorial of the number is\",fact)"
      ],
      "metadata": {
        "colab": {
          "base_uri": "https://localhost:8080/"
        },
        "id": "CVURE4MVtla1",
        "outputId": "3762ac9e-1d5d-4ef9-cdfb-4baaa1238b91"
      },
      "execution_count": 13,
      "outputs": [
        {
          "output_type": "stream",
          "name": "stdout",
          "text": [
            "Enter a number2\n",
            "The factorial of the number is 2\n"
          ]
        }
      ]
    },
    {
      "cell_type": "code",
      "source": [
        "marks=int(input(\"Enter your marks\"))\n",
        "if marks<50:\n",
        "    print(\"YOUR GRADE IS F\")\n",
        "if marks>50 and marks<60:\n",
        "    print(\"YOUR GRADE IS E\")\n",
        "if marks>61 and marks<70:\n",
        "    print(\"YOUR GRADE IS D\")\n",
        "if marks>71 and marks<80:\n",
        "    print(\"YOUR GRADE IS C\")\n",
        "if marks>81 and marks<90:\n",
        "    print(\"YOUR GRADE IS B\")\n",
        "if marks>91 and marks<=100:\n",
        "    print(\"YOUR GRADE IS A\")\n"
      ],
      "metadata": {
        "colab": {
          "base_uri": "https://localhost:8080/"
        },
        "id": "qoFuEpWStmH8",
        "outputId": "98c64070-cd6b-4e3b-df4e-7d1a98b68a92"
      },
      "execution_count": 15,
      "outputs": [
        {
          "output_type": "stream",
          "name": "stdout",
          "text": [
            "Enter your marks89\n",
            "YOUR GRADE IS B\n"
          ]
        }
      ]
    }
  ]
}
{
  "nbformat": 4,
  "nbformat_minor": 0,
  "metadata": {
    "colab": {
      "provenance": [],
      "authorship_tag": "ABX9TyNTj7K8wwbXRNeKDluVCxfK",
      "include_colab_link": true
    },
    "kernelspec": {
      "name": "python3",
      "display_name": "Python 3"
    },
    "language_info": {
      "name": "python"
    }
  },
  "cells": [
    {
      "cell_type": "markdown",
      "metadata": {
        "id": "view-in-github",
        "colab_type": "text"
      },
      "source": [
        "<a href=\"https://colab.research.google.com/github/ukzada/Intro-to-AI/blob/lab-2/Untitled5.ipynb\" target=\"_parent\"><img src=\"https://colab.research.google.com/assets/colab-badge.svg\" alt=\"Open In Colab\"/></a>"
      ]
    },
    {
      "cell_type": "code",
      "execution_count": null,
      "metadata": {
        "id": "OM5ubqjTO1d2"
      },
      "outputs": [],
      "source": [
        "domains = {\n",
        "    'A': [1, 2, 3],\n",
        "    'B': [1, 2, 3],\n",
        "    'C': [1, 2, 3]\n",
        "}\n",
        "\n",
        "constraints = {\n",
        "    ('A', 'B'): lambda a, b: a > b,\n",
        "    ('B', 'A'): lambda b, a: b < a,\n",
        "    ('B', 'C'): lambda b, c: b == c,\n",
        "    ('C', 'B'): lambda c, b: c == b,\n",
        "}\n",
        "\n",
        "\n",
        "def revise(x, y):\n",
        "    \"\"\"\n",
        "    Make variable `x` arc consistent with variable `y`.\n",
        "    To do so, remove values from `domains[x]` for which there is no\n",
        "    possible corresponding value for `y` in `domains[y]`.\n",
        "    Return True if a revision was made to the domain of `x`; return\n",
        "    False if no revision was made.\n",
        "    \"\"\"\n",
        "    revised = False\n",
        "\n",
        "    # Get x and y domains\n",
        "    x_domain = domains[x]\n",
        "    y_domain = domains[y]\n",
        "\n",
        "    # Get all arc (x, y) constraints\n",
        "    all_constraints = [\n",
        "        constraint for constraint in constraints if constraint[0] == x and constraint[1] == y]\n",
        "\n",
        "    for x_value in x_domain:\n",
        "        satisfies = False\n",
        "        for y_value in y_domain:\n",
        "            for constraint in all_constraints:\n",
        "                constraint_func = constraints[constraint]\n",
        "                if constraint_func(x_value, y_value):\n",
        "                    satisfies = True\n",
        "        if not satisfies:\n",
        "            x_domain.remove(x_value)\n",
        "            revised = True\n",
        "\n",
        "    return revised\n",
        "\n",
        "\n",
        "def ac3(arcs):\n",
        "    \"\"\"\n",
        "    Update `domains` such that each variable is arc consistent.\n",
        "    \"\"\"\n",
        "    # Add all the arcs to a queue.\n",
        "    queue = arcs[:]\n",
        "\n",
        "    # Repeat until the queue is empty\n",
        "    while queue:\n",
        "        # Take the first arc off the queue (dequeue)\n",
        "        (x, y) = queue.pop(0)\n",
        "\n",
        "        # Make x arc consistent with y\n",
        "        revised = revise(x, y)\n",
        "\n",
        "        # If the x domain has changed\n",
        "        if revised:\n",
        "            # Add all arcs of the form (k, x) to the queue (enqueue)\n",
        "            neighbors = [neighbor for neighbor in arcs if neighbor[1] == x]\n",
        "            queue = queue + neighbors\n",
        "\n",
        "\n",
        "arcs = [('A', 'B'), ('B', 'A'), ('B', 'C'), ('C', 'B')]\n",
        "\n",
        "ac3(arcs)\n",
        "\n",
        "print(domains) # {'A': [2, 3], 'C': [1, 2], 'B': [1, 2]}"
      ]
    }
  ]
}
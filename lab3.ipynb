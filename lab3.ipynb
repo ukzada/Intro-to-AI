{
  "nbformat": 4,
  "nbformat_minor": 0,
  "metadata": {
    "colab": {
      "provenance": [],
      "collapsed_sections": [],
      "authorship_tag": "ABX9TyOIWQBTwdmEx5DSn02RCDnr",
      "include_colab_link": true
    },
    "kernelspec": {
      "name": "python3",
      "display_name": "Python 3"
    },
    "language_info": {
      "name": "python"
    }
  },
  "cells": [
    {
      "cell_type": "markdown",
      "metadata": {
        "id": "view-in-github",
        "colab_type": "text"
      },
      "source": [
        "<a href=\"https://colab.research.google.com/github/ukzada/Intro-to-AI/blob/lab-2/lab3.ipynb\" target=\"_parent\"><img src=\"https://colab.research.google.com/assets/colab-badge.svg\" alt=\"Open In Colab\"/></a>"
      ]
    },
    {
      "cell_type": "code",
      "execution_count": 1,
      "metadata": {
        "colab": {
          "base_uri": "https://localhost:8080/"
        },
        "id": "N50SfAFGRpEC",
        "outputId": "2dc539d3-f666-4c6a-ec4c-5357fc0edc65"
      },
      "outputs": [
        {
          "output_type": "stream",
          "name": "stdout",
          "text": [
            "A B E C D F G "
          ]
        }
      ],
      "source": [
        "graph = {\n",
        "  'A' : ['B','E','C'],\n",
        "  'B' : ['D', 'E','A'],\n",
        "  'C' : ['F','G','A'],\n",
        "  'D' : ['E','B'],\n",
        "  'E' : ['B','D','A'],\n",
        "  'F' : ['C'],\n",
        "   'G': ['C'],\n",
        "}\n",
        "visited = [] \n",
        "queue = []   \n",
        "def bfs(visited, graph, node):\n",
        "  visited.append(node)\n",
        "  queue.append(node)\n",
        "  while queue:\n",
        "    s = queue.pop(0) \n",
        "    print (s, end = \" \") \n",
        "    for neighbour in graph[s]:\n",
        "      if neighbour not in visited:\n",
        "        visited.append(neighbour)\n",
        "        queue.append(neighbour)\n",
        "bfs(visited, graph, 'A')\n"
      ]
    },
    {
      "cell_type": "code",
      "source": [
        "graph = {\n",
        "  'A' : ['B','E','C'],\n",
        "  'B' : ['D', 'E','A'],\n",
        "  'C' : ['F','G','A'],\n",
        "  'D' : ['E','B'],\n",
        "  'E' : ['B','D','A'],\n",
        "  'F' : ['C'],\n",
        "   'G': ['C'],\n",
        "}\n",
        "visited = [] \n",
        "queue = []   \n",
        "def bfs(visited, graph, node,end):\n",
        "  visited.append(node)\n",
        "  queue.append(node)\n",
        "  while queue:\n",
        "    s = queue.pop(0) \n",
        "    print (s, end = \" \") \n",
        "    if s==end:\n",
        "        break\n",
        "    for neighbour in graph[s]:\n",
        "      if neighbour not in visited:\n",
        "        visited.append(neighbour)\n",
        "        queue.append(neighbour)\n",
        "bfs(visited, graph, 'A','F')\n"
      ],
      "metadata": {
        "colab": {
          "base_uri": "https://localhost:8080/"
        },
        "id": "emXbDbx_R9wL",
        "outputId": "def24bfe-d296-45ca-edb2-f87a9d324134"
      },
      "execution_count": 2,
      "outputs": [
        {
          "output_type": "stream",
          "name": "stdout",
          "text": [
            "A B E C D F "
          ]
        }
      ]
    },
    {
      "cell_type": "code",
      "source": [
        "graph={\n",
        "    '1':['2'],\n",
        "    '2':['1','3'],\n",
        "    '3':['4','2'],\n",
        "    '4':['3','5','6'],\n",
        "    '6':['4','7'],\n",
        "    '7':['6','9','8'],\n",
        "    '8':['7','10'],\n",
        "    '9':['7','10'],\n",
        "    '10':['11','8','9'],\n",
        "    '11':['10','12'],\n",
        "    '12':['11','13','14'],\n",
        "    '13':['12'],\n",
        "    '14':['12','15'],\n",
        "    '15':['16','14'],\n",
        "    '16':['25','15'],\n",
        "    '25':['24','16'],\n",
        "    '24':['23','25'],\n",
        "    '23':['24','22'],\n",
        "    '22':['21','23'],\n",
        "    '21':['20','22'],\n",
        "    '20':['19','21'],\n",
        "    '19':['18','20'],\n",
        "    '18':['17','19'],\n",
        "    '17':['18','5'],\n",
        "    '5':['4','17'],\n",
        "}\n",
        "visited = [] \n",
        "queue = []   \n",
        "def bfs(visited, graph, node,end):\n",
        "  visited.append(node)\n",
        "  queue.append(node)\n",
        "  while queue:\n",
        "    s = queue.pop(0) \n",
        "    print (s, end = \" \") \n",
        "    if s==end:\n",
        "        break\n",
        "    for neighbour in graph[s]:\n",
        "      if neighbour not in visited:\n",
        "        visited.append(neighbour)\n",
        "        queue.append(neighbour)\n",
        "bfs(visited, graph, '1','16')\n"
      ],
      "metadata": {
        "colab": {
          "base_uri": "https://localhost:8080/"
        },
        "id": "1xqmpvvIR9zu",
        "outputId": "06749be0-cb32-4c19-c7c9-6d4c25977ca8"
      },
      "execution_count": 3,
      "outputs": [
        {
          "output_type": "stream",
          "name": "stdout",
          "text": [
            "1 2 3 4 5 6 17 7 18 9 8 19 10 20 11 21 12 22 13 14 23 15 24 16 "
          ]
        }
      ]
    },
    {
      "cell_type": "code",
      "source": [
        "graph={\n",
        "    'Arab':['Zernid','Timisoara','Sibiu'],\n",
        "    'Zernid':['Arab','Oradea'],\n",
        "    'Timisoara':['Arab','Lugoj'],\n",
        "    'Sibiu':['Rimnico vilcea','Arab','Oradea','Fagaras'],\n",
        "    'Oradea':['Zernid','Sibiu'],\n",
        "    'Lugoj':['Mehadia'],\n",
        "    'Mehadia':['Drobeta'],\n",
        "    'Craiova':['Drobeta','Pitesti','Rimnico vilcea'],\n",
        "    'Drobeta':['Mehadia','Craiova'],\n",
        "    'Pitesti':['Craiova','Rimnico vilcea','Bucharest'],\n",
        "    'Rimnico vilcea':['Pitesti','Sibiu'],\n",
        "    'Fagaras':['Sibiu','Bucharest'],\n",
        "    'Bucharest':['Giurgiu','Urziceni','Pitesti','Fagaras'],\n",
        "    'Giurgiu':['Bucharrest'],\n",
        "    'Urziceni':['Hirsova','Valsui'],\n",
        "    'Hirsova':['Eforie','Urziceni'],\n",
        "    'Eforie':['Hirsova'],\n",
        "    'Valsui':['Iasi','Urziceni'],\n",
        "    'Iasi':['Valsui','Neamt'],\n",
        "    'Neamt':['Iasi'],\n",
        "}\n",
        "visited = [] \n",
        "queue = []   \n",
        "def bfs(visited, graph, node,end):\n",
        "  visited.append(node)\n",
        "  queue.append(node)\n",
        "  while queue:\n",
        "    s = queue.pop(0) \n",
        "    print (s, end = \" \") \n",
        "    if s==end:\n",
        "        break\n",
        "    for neighbour in graph[s]:\n",
        "      if neighbour not in visited:\n",
        "        visited.append(neighbour)\n",
        "        queue.append(neighbour)\n",
        "bfs(visited, graph, 'Arab','Bucharest')\n",
        "\n"
      ],
      "metadata": {
        "colab": {
          "base_uri": "https://localhost:8080/"
        },
        "id": "QCo1GLelR935",
        "outputId": "1dfe12ed-b87d-4ce1-f6d9-fd4647a0e87a"
      },
      "execution_count": 4,
      "outputs": [
        {
          "output_type": "stream",
          "name": "stdout",
          "text": [
            "Arab Zernid Timisoara Sibiu Oradea Lugoj Rimnico vilcea Fagaras Mehadia Pitesti Bucharest "
          ]
        }
      ]
    }
  ]
}
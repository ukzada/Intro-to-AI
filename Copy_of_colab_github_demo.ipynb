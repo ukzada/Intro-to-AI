{
  "cells": [
    {
      "cell_type": "markdown",
      "metadata": {
        "id": "view-in-github",
        "colab_type": "text"
      },
      "source": [
        "<a href=\"https://colab.research.google.com/github/ukzada/Intro-to-AI/blob/lab-2/Copy_of_colab_github_demo.ipynb\" target=\"_parent\"><img src=\"https://colab.research.google.com/assets/colab-badge.svg\" alt=\"Open In Colab\"/></a>"
      ]
    },
    {
      "cell_type": "markdown",
      "metadata": {
        "id": "-pVhOfzLx9us"
      },
      "source": [
        "# Using Google Colab with GitHub\n",
        "\n"
      ]
    },
    {
      "cell_type": "code",
      "source": [
        "# LAB 6 Activity 1\n",
        "# Uniform COST Search\n",
        "\n",
        "import math\n",
        "\n",
        "class Node:\n",
        "    def __init__(self, state, parent, actions, totalCost):\n",
        "        self.state = state\n",
        "        self.parent = parent\n",
        "        self.actions = actions\n",
        "        self.totalCost = totalCost\n",
        "        \n",
        "\n",
        "def FindMin(frontier):\n",
        "    minValue = math.inf\n",
        "    node = ''\n",
        "    for i in frontier:\n",
        "        if minValue > frontier[i][1]:\n",
        "            minValue = frontier[i][1]\n",
        "            node = i\n",
        "    return node\n",
        "\n",
        "def actionSequence(graph, initialState, goalState):\n",
        "    solution = [goalState]\n",
        "    currentParent = graph[goalState].parent\n",
        "    while currentParent != None:\n",
        "        solution.append(currentParent)\n",
        "        currentParent = graph[currentParent].parent\n",
        "    solution.reverse()\n",
        "    return solution\n",
        "\n",
        "\n",
        "def UCS():\n",
        "    initialState = 'D'\n",
        "    goalState = 'G'\n",
        "    \n",
        "    graph = {'A': Node('A', None, [('B',6), ('C',9), ('E',1)], 0),\n",
        "             'B': Node('B', None, [('A',6), ('D',3), ('E',4)], 0),\n",
        "             'C': Node('C', None, [('A',9), ('F',2), ('G',3)], 0),\n",
        "             'D': Node('D', None, [('B',3), ('E',5), ('F',7)], 0),\n",
        "             'E': Node('E', None, [('A',1), ('B',4), ('D',5), ('F',6)], 0),\n",
        "             'F': Node('F', None, [('C',2), ('E',6), ('D',7)], 0),\n",
        "             'G': Node('G', None, [('C',3)], 0)}\n",
        "    frontier = dict()\n",
        "    frontier[initialState] = (None, 0)\n",
        "    explored = []\n",
        "    \n",
        "    while len(frontier) != 0:\n",
        "        currentNode = FindMin(frontier)\n",
        "        del frontier[currentNode]\n",
        "        if graph[currentNode].state == goalState:\n",
        "            return actionSequence(graph, initialState, goalState)\n",
        "        explored.append(currentNode)\n",
        "        \n",
        "        for child in graph[currentNode].actions:\n",
        "            currentCost = child[1] + graph[currentNode].totalCost\n",
        "            if child[0] not in frontier and child[0] not in explored:\n",
        "                graph[child[0]].parent = currentNode\n",
        "                graph[child[0]].totalCost = currentCost\n",
        "                frontier[child[0]] = (graph[child[0]].parent, graph[child[0]].totalCost)\n",
        "            elif child[0] in frontier:\n",
        "                if frontier[child[0]][1] < currentCost:\n",
        "                    graph[child[0]].parent = frontier[child[0]][0]\n",
        "                    graph[child[0]].totalCost = frontier[child[0]][1]\n",
        "                else:\n",
        "                    frontier[child[0]] = (currentNode, currentCost)\n",
        "                    graph[child[0]].totalCost = frontier[child[0]][1]\n",
        "                    \n",
        "sol = UCS()\n",
        "print(f\"Shortest path is: {sol}\")"
      ],
      "metadata": {
        "id": "wycpFHbL9ACk",
        "outputId": "b3d1c684-8a5c-4200-f40f-2c1aa2b4017f",
        "colab": {
          "base_uri": "https://localhost:8080/"
        }
      },
      "execution_count": null,
      "outputs": [
        {
          "output_type": "stream",
          "name": "stdout",
          "text": [
            "Shortest path is: ['D', 'B', 'A', 'C', 'G']\n"
          ]
        }
      ]
    },
    {
      "cell_type": "code",
      "source": [
        "# LAB 6 Lab Task 1\n",
        "# Uniform COST Search\n",
        "\n",
        "import math\n",
        "\n",
        "class Node:\n",
        "    def __init__(self, state, parent, actions, totalCost):\n",
        "        self.state = state\n",
        "        self.parent = parent\n",
        "        self.actions = actions\n",
        "        self.totalCost = totalCost\n",
        "        \n",
        "\n",
        "def FindMin(frontier):\n",
        "    minValue = math.inf\n",
        "    node = ''\n",
        "    for i in frontier:\n",
        "        if minValue > frontier[i][1]:\n",
        "            minValue = frontier[i][1]\n",
        "            node = i\n",
        "    return node\n",
        "\n",
        "def actionSequence(graph, initialState, goalState):\n",
        "    solution = [goalState]\n",
        "    currentParent = graph[goalState].parent\n",
        "    while currentParent != None:\n",
        "        solution.append(currentParent)\n",
        "        currentParent = graph[currentParent].parent\n",
        "    solution.reverse()\n",
        "    return solution\n",
        "\n",
        "\n",
        "def UCS():\n",
        "    initialState = 'Arad'\n",
        "    goalState = 'Bucharest'\n",
        "    \n",
        "    graph = {'Oreadea': Node('Oreadea', None, [('Zerind',71), ('Sibiu',151)], 0),\n",
        "             'Zerind': Node('Zerind', None, [('Oreadea',71), ('Arad',75)], 0),\n",
        "             'Sibiu': Node('Sibiu', None, [('Oreadea',151), ('Arad',140), ('Fagaras',99)], 0),\n",
        "             'Arad': Node('Arad', None, [('Zerind',75), ('Sibiu',140), ('Timisoara',118)], 0),\n",
        "             'Fagaras': Node('Fagaras', None, [('Sibiu',99), ('Bucharest',211)], 0),\n",
        "             'Timisoara': Node('Timisoara', None, [('Arad',118), ('Lugoj',111)], 0),\n",
        "             'Rimnicu': Node('Rimnicu', None, [('Sibiu',80), ('Pitesti',97), ('Craiova',146)], 0),\n",
        "             'Lugoj': Node('Lugpj', None, [('Timisoara',111), ('Mehadia',70)], 0),\n",
        "             'Pitesti': Node('Pitesti', None, [('Rimnicu',97), ('Craiova', 138), ('Bucharest', 101)], 0),\n",
        "             'Mehadia': Node('Mehadia', None, [('Lugoj',70), ('Drobeta',75)], 0),\n",
        "             'Bucharest': Node('Bucharest', None, [('Fagaras', 211), ('Pitesti',101), ('Giurgiu', 90)], 0),\n",
        "             'Neamt': Node('Neamt', None , [('Iasi',87)], 0),\n",
        "             'Iasi': Node('Iasa', None, [('Neamt', 87), ('Vaslui',92)], 0),\n",
        "             'Vaslui': Node('Vaslui', None, [('Iasi',92), ('Urziceni',142)], 0),\n",
        "             'Urziceni': Node('Urziceni', None, [('Vaslui',142), ('Bucharest',85), ('Hirsova', 98)], 0),\n",
        "             'Hirsova': Node('Hirsova', None, [('Urziceni',98), ('Eforie',86)], 0),\n",
        "             'Eforie': Node('Eforie', None ,[('Hirsova',86)], 0),\n",
        "             'Drobeta': Node('Drobeta', None, [('Mehadia',75), ('Craiova',120)], 0),\n",
        "             'Craiova': Node('Craiova', None, [('Drobeta',120), ('Pitesti',138), ('Rimnicu', 146)], 0),\n",
        "             'Giurgiu': Node('Giurgiu', None, [('Bucharest',90)], 0)}\n",
        "\n",
        "    frontier = dict()\n",
        "    frontier[initialState] = (None, 0)\n",
        "    explored = []\n",
        "    \n",
        "    while len(frontier) != 0:\n",
        "        currentNode = FindMin(frontier)\n",
        "        del frontier[currentNode]\n",
        "        if graph[currentNode].state == goalState:\n",
        "            return actionSequence(graph, initialState, goalState)\n",
        "        explored.append(currentNode)\n",
        "        \n",
        "        for child in graph[currentNode].actions:\n",
        "            currentCost = child[1] + graph[currentNode].totalCost\n",
        "            if child[0] not in frontier and child[0] not in explored:\n",
        "                graph[child[0]].parent = currentNode\n",
        "                graph[child[0]].totalCost = currentCost\n",
        "                frontier[child[0]] = (graph[child[0]].parent, graph[child[0]].totalCost)\n",
        "            elif child[0] in frontier:\n",
        "                if frontier[child[0]][1] < currentCost:\n",
        "                    graph[child[0]].parent = frontier[child[0]][0]\n",
        "                    graph[child[0]].totalCost = frontier[child[0]][1]\n",
        "                else:\n",
        "                    frontier[child[0]] = (currentNode, currentCost)\n",
        "                    graph[child[0]].totalCost = frontier[child[0]][1]\n",
        "                    \n",
        "sol = UCS()\n",
        "print(f\"Shortest path is: {sol}\")"
      ],
      "metadata": {
        "id": "A_czp3dl9a7y",
        "outputId": "a5ed471c-ee5b-479f-e683-f965b00ebb4e",
        "colab": {
          "base_uri": "https://localhost:8080/"
        }
      },
      "execution_count": null,
      "outputs": [
        {
          "output_type": "stream",
          "name": "stdout",
          "text": [
            "Shortest path is: ['Arad', 'Sibiu', 'Fagaras', 'Bucharest']\n"
          ]
        }
      ]
    },
    {
      "cell_type": "markdown",
      "metadata": {
        "id": "wKJ4bd5rt1wy"
      },
      "source": [
        "\n",
        "[Google Colaboratory](http://colab.research.google.com) is designed to integrate cleanly with GitHub, allowing both loading notebooks from github and saving notebooks to github."
      ]
    },
    {
      "cell_type": "code",
      "source": [],
      "metadata": {
        "id": "seqbBfy8CFNG"
      },
      "execution_count": null,
      "outputs": []
    },
    {
      "cell_type": "markdown",
      "metadata": {
        "id": "K-NVg7RjyeTk"
      },
      "source": [
        "## Loading Public Notebooks Directly from GitHub\n",
        "\n",
        "Colab can load public github notebooks directly, with no required authorization step.\n",
        "\n",
        "For example, consider the notebook at this address: https://github.com/googlecolab/colabtools/blob/master/notebooks/colab-github-demo.ipynb.\n",
        "\n",
        "The direct colab link to this notebook is: https://colab.research.google.com/github/googlecolab/colabtools/blob/master/notebooks/colab-github-demo.ipynb.\n",
        "\n",
        "To generate such links in one click, you can use the [Open in Colab](https://chrome.google.com/webstore/detail/open-in-colab/iogfkhleblhcpcekbiedikdehleodpjo) Chrome extension."
      ]
    },
    {
      "cell_type": "markdown",
      "metadata": {
        "id": "WzIRIt9d2huC"
      },
      "source": [
        "## Browsing GitHub Repositories from Colab\n",
        "\n",
        "Colab also supports special URLs that link directly to a GitHub browser for any user/organization, repository, or branch. For example:\n",
        "\n",
        "- http://colab.research.google.com/github will give you a general github browser, where you can search for any github organization or username.\n",
        "- http://colab.research.google.com/github/googlecolab/ will open the repository browser for the ``googlecolab`` organization. Replace ``googlecolab`` with any other github org or user to see their repositories.\n",
        "- http://colab.research.google.com/github/googlecolab/colabtools/ will let you browse the main branch of the ``colabtools`` repository within the ``googlecolab`` organization. Substitute any user/org and repository to see its contents.\n",
        "- http://colab.research.google.com/github/googlecolab/colabtools/blob/master will let you browse ``master`` branch of the ``colabtools`` repository within the ``googlecolab`` organization. (don't forget the ``blob`` here!) You can specify any valid branch for any valid repository."
      ]
    },
    {
      "cell_type": "markdown",
      "metadata": {
        "id": "Rmai0dD30XzL"
      },
      "source": [
        "## Loading Private Notebooks\n",
        "\n",
        "Loading a notebook from a private GitHub repository is possible, but requires an additional step to allow Colab to access your files.\n",
        "Do the following:\n",
        "\n",
        "1. Navigate to http://colab.research.google.com/github.\n",
        "2. Click the \"Include Private Repos\" checkbox.\n",
        "3. In the popup window, sign-in to your Github account and authorize Colab to read the private files.\n",
        "4. Your private repositories and notebooks will now be available via the github navigation pane."
      ]
    },
    {
      "cell_type": "markdown",
      "metadata": {
        "id": "8J3NBxtZpPcK"
      },
      "source": [
        "## Saving Notebooks To GitHub or Drive\n",
        "\n",
        "Any time you open a GitHub hosted notebook in Colab, it opens a new editable view of the notebook. You can run and modify the notebook without worrying about overwriting the source.\n",
        "\n",
        "If you would like to save your changes from within Colab, you can use the File menu to save the modified notebook either to Google Drive or back to GitHub. Choose **File→Save a copy in Drive** or **File→Save a copy to GitHub** and follow the resulting prompts. To save a Colab notebook to GitHub requires giving Colab permission to push the commit to your repository."
      ]
    },
    {
      "cell_type": "markdown",
      "metadata": {
        "id": "8QAWNjizy_3O"
      },
      "source": [
        "## Open In Colab Badge\n",
        "\n",
        "Anybody can open a copy of any github-hosted notebook within Colab. To make it easier to give people access to live views of GitHub-hosted notebooks,\n",
        "colab provides a [shields.io](http://shields.io/)-style badge, which appears as follows:\n",
        "\n",
        "[![Open In Colab](https://colab.research.google.com/assets/colab-badge.svg)](https://colab.research.google.com/github/googlecolab/colabtools/blob/master/notebooks/colab-github-demo.ipynb)\n",
        "\n",
        "The markdown for the above badge is the following:\n",
        "\n",
        "```markdown\n",
        "[![Open In Colab](https://colab.research.google.com/assets/colab-badge.svg)](https://colab.research.google.com/github/googlecolab/colabtools/blob/master/notebooks/colab-github-demo.ipynb)\n",
        "```\n",
        "\n",
        "The HTML equivalent is:\n",
        "\n",
        "```HTML\n",
        "<a href=\"https://colab.research.google.com/github/googlecolab/colabtools/blob/master/notebooks/colab-github-demo.ipynb\">\n",
        "  <img src=\"https://colab.research.google.com/assets/colab-badge.svg\" alt=\"Open In Colab\"/>\n",
        "</a>\n",
        "```\n",
        "\n",
        "Remember to replace the notebook URL in this template with the notebook you want to link to."
      ]
    },
    {
      "cell_type": "code",
      "execution_count": null,
      "metadata": {
        "id": "3VQqVi-3ScBC"
      },
      "outputs": [],
      "source": []
    }
  ],
  "metadata": {
    "colab": {
      "collapsed_sections": [],
      "provenance": [],
      "include_colab_link": true
    },
    "kernelspec": {
      "display_name": "Python 3",
      "name": "python3"
    }
  },
  "nbformat": 4,
  "nbformat_minor": 0
}
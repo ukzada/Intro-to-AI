{
  "nbformat": 4,
  "nbformat_minor": 0,
  "metadata": {
    "colab": {
      "provenance": [],
      "collapsed_sections": [],
      "authorship_tag": "ABX9TyOcwWYlXQ85441Hi22ICUbP",
      "include_colab_link": true
    },
    "kernelspec": {
      "name": "python3",
      "display_name": "Python 3"
    },
    "language_info": {
      "name": "python"
    }
  },
  "cells": [
    {
      "cell_type": "markdown",
      "metadata": {
        "id": "view-in-github",
        "colab_type": "text"
      },
      "source": [
        "<a href=\"https://colab.research.google.com/github/ukzada/Intro-to-AI/blob/lab-2/Untitled2.ipynb\" target=\"_parent\"><img src=\"https://colab.research.google.com/assets/colab-badge.svg\" alt=\"Open In Colab\"/></a>"
      ]
    },
    {
      "cell_type": "code",
      "execution_count": null,
      "metadata": {
        "id": "J0UnG6yHXWHC"
      },
      "outputs": [],
      "source": [
        "myList=[]\n",
        "print(\"Enter elements of first array\")\n",
        "for i in range (5):\n",
        "    val=int(input(\"Enter elements of array\"))\n",
        "    myList.append(val)\n",
        "myList2=[]\n",
        "print(\"Enter elements of first array\")\n",
        "for i in range (5):\n",
        "    val2=int(input(\"Enter elements of array\"))\n",
        "    myList2.append(val2)\n",
        "myList3=myList+myList2\n",
        "print(myList3)"
      ]
    },
    {
      "cell_type": "code",
      "source": [],
      "metadata": {
        "id": "_dZ4hS3cZbZQ"
      },
      "execution_count": null,
      "outputs": []
    },
    {
      "cell_type": "code",
      "source": [
        "def isPlaindrome(word):\n",
        "    temp=word[::-1]\n",
        "    if temp.capitalize()==word.capitalize():\n",
        "        return True\n",
        "    else:\n",
        "        return False\n",
        "print(isPlaindrome(\"deed\"))\n"
      ],
      "metadata": {
        "id": "P6cLcTmcXg1R"
      },
      "execution_count": null,
      "outputs": []
    },
    {
      "cell_type": "code",
      "source": [
        "A = [[12,7,3],\n",
        "    [4 ,5,6],\n",
        "    [7 ,8,9]]\n",
        "B = [[5,8,1],\n",
        "    [6,7,3],\n",
        "    [4,5,9]]\n",
        "C= [[0,0,0],\n",
        "    [0,0,0],\n",
        "    [0,0,0]]\n",
        "\n",
        "for i in range(3):\n",
        "   for j in range(3):\n",
        "        for k in range(3):\n",
        "           C[i][j] += A[i][k] * B[k][j]\n",
        "\n",
        "for r in C:\n",
        "   print(r)\n"
      ],
      "metadata": {
        "id": "8nUWFobcXg5J"
      },
      "execution_count": null,
      "outputs": []
    },
    {
      "cell_type": "code",
      "source": [
        "def perimeter (listing):\n",
        "    leng=len(listing)\n",
        "    perimeter=0\n",
        "    for i in range(0,leng-1):\n",
        "        dis=(((listing[i][0]-listing[i+1][0])**2)+((listing[i][1]-listing[i+1][1])**2)**0.5)\n",
        "        perimeter+=dis\n",
        "        perimeter+=(((listing[0][0]-listing[leng-1][0])**2)+((listing[0][1]-listing[leng-1][1])**2)**0.5)\n",
        "        return perimeter\n",
        "l=[(1,3),(2,7),(3,9),(-1,8)]\n",
        "print(perimeter(l))"
      ],
      "metadata": {
        "id": "N6S4fqSzXg8g"
      },
      "execution_count": null,
      "outputs": []
    },
    {
      "cell_type": "code",
      "source": [
        "def symmetric(a,b):\n",
        "    e=set()\n",
        "    for i in a:\n",
        "        if i not in b:\n",
        "            e.add(i)\n",
        "    for i in b:\n",
        "        if i not in a:\n",
        "            e.add(i)\n",
        "    return e\n",
        "set1={0,1,2,3,4,5}\n",
        "set2={6,7,8,9,0,1}\n",
        "print (symmetric(set1,set2))\n",
        "        \n"
      ],
      "metadata": {
        "id": "e8nT-KbrXhFz"
      },
      "execution_count": null,
      "outputs": []
    },
    {
      "cell_type": "code",
      "source": [
        "firstName=(\"shoaib\",\"saqib\",\"laiba\")\n",
        "lastName=(\"ali\",\"hassan\",\"shahid\")\n",
        "sample={(\"shoaib\",\"ali\"):\"03124852197\",(\"saqib\",\"hassan\"):\"03122292552\",(\"laiba\",\"shahid\"):\"03115017560\"}\n",
        "searchtuple=(\"laiba\",\"shahid\")\n",
        "if searchtuple in sample:\n",
        "    print(sample[searchtuple])\n",
        "else:\n",
        "    print(\"NOT FOUND\")\n"
      ],
      "metadata": {
        "id": "43DJtgSKX7Tn"
      },
      "execution_count": null,
      "outputs": []
    },
    {
      "cell_type": "code",
      "source": [
        "myList=[]\n",
        "print(\"Enter elements of first array\")\n",
        "for i in range (5):\n",
        "    val=int(input(\"Enter elements of array\"))\n",
        "    myList.append(val)\n",
        "myList2=[]\n",
        "print(\"Enter elements of first array\")\n",
        "for i in range (5):\n",
        "    val2=int(input(\"Enter elements of array\"))\n",
        "    myList2.append(val2)\n",
        "myList3=myList+myList2\n",
        "myList3.sort()\n",
        "print(myList3)\n"
      ],
      "metadata": {
        "id": "-XdubAvaX7W9"
      },
      "execution_count": null,
      "outputs": []
    },
    {
      "cell_type": "code",
      "source": [
        "myList=[]\n",
        "print(\"Enter elements of first array\")\n",
        "for i in range (5):\n",
        "    val=int(input(\"Enter elements of array\"))\n",
        "    myList.append(val)\n",
        "myList2=[]\n",
        "print(\"Enter elements of first array\")\n",
        "for i in range (5):\n",
        "    val2=int(input(\"Enter elements of array\"))\n",
        "    myList2.append(val2)\n",
        "myList3=myList+myList2\n",
        "maxi=myList3[0]\n",
        "for i in range (10):\n",
        "    for j in range (10):\n",
        "        if (myList3[j]>maxi):\n",
        "            maxi=myList3[j]\n",
        "print (maxi)\n",
        "mani=myList3[0]\n",
        "for i in range (10):\n",
        "    for j in range (10):\n",
        "        if (myList3[j]<mani):\n",
        "            mani=myList3[j]\n",
        "print (mani)"
      ],
      "metadata": {
        "id": "PpRu0XPjXhJP"
      },
      "execution_count": null,
      "outputs": []
    },
    {
      "cell_type": "code",
      "source": [
        "Dict={(\"laiba\"):\"5-02-2003\",(\"hafsa\"):\"3-02-2004\",(\"kiran\"):\"6-07-2002\"}\n",
        "print (\"Welome to the birthday dictionary\")\n",
        "print(\"we know the birthdays of\")\n",
        "print(\"laiba\")\n",
        "print(\"kiran\")\n",
        "print(\"hafsa\")\n",
        "print(\"Enter the name of the person whose birthday you want to know\")\n",
        "name=str(input())\n",
        "print(Dict[name])\n"
      ],
      "metadata": {
        "id": "17EXy0X8YFmx"
      },
      "execution_count": null,
      "outputs": []
    },
    {
      "cell_type": "code",
      "source": [
        "Dict={(\"name\"):\"kelly\",(\"age\"):\"25\",(\"salary\"):\"260000\",(\"city\"):\"new york\"}\n",
        "print(Dict['name'])\n",
        "print(Dict['salary'])\n"
      ],
      "metadata": {
        "id": "bUKZ3AeQYFqJ"
      },
      "execution_count": null,
      "outputs": []
    },
    {
      "cell_type": "code",
      "source": [
        "from math import *\n",
        "x=0.001\n",
        "for i in range(0,360,30):\n",
        "    print (\"The value of sin and cos at \",i)\n",
        "    a=((sin(i+x)-(sin(i)))/x)\n",
        "    print(\"value of sin \",a)\n",
        "    print(\"value of cos \",cos(i))\n"
      ],
      "metadata": {
        "id": "y3NRhDoWYF5S"
      },
      "execution_count": null,
      "outputs": []
    }
  ]
}